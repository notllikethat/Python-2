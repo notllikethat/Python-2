{
 "cells": [
  {
   "cell_type": "code",
   "execution_count": 52,
   "metadata": {},
   "outputs": [
    {
     "name": "stdout",
     "output_type": "stream",
     "text": [
      "Isocitrate lyase (5E9F) contains its active site (PS00161) starting from 214 position: KKCGHM\n"
     ]
    }
   ],
   "source": [
    "import re\n",
    "\n",
    "with open ('5e9f.fasta.txt', 'r') as r: Fasta = ''.join(r.readlines())\n",
    "\n",
    "fasta_info = {}\n",
    "pos = []\n",
    "sites =[]\n",
    "\n",
    "fasta_id = re.search(r'(?<=>)(\\S*)(?=:)', Fasta).group()\n",
    "sequence = list(\n",
    "                map(\n",
    "                    lambda x: x.replace('\\\\n',''), re.findall(('(?<=SEQUENCE\\n).*'), Fasta, re.S)))\n",
    "\n",
    "chain = re.findall(r'(?=:)*(?=|)', Fasta)\n",
    "for key in chain: \n",
    "    for value in sequence: \n",
    "        fasta_info[key] = value \n",
    "\n",
    "for value in fasta_info.values():\n",
    "    site = re.search(r'K[KR]CGH[LMQR]', value).group()\n",
    "    site_pos = re.search(r'K[KR]CGH[LMQR]', value).span()\n",
    "    pos.append(site_pos)\n",
    "    sites.append(site)\n",
    "\n",
    "site_id = 'PS00161'\n",
    "print(f'Isocitrate lyase ({fasta_id}) contains its active site ({site_id}) starting from {pos[0][0]} position: {sites[0]}')"
   ]
  },
  {
   "cell_type": "code",
   "execution_count": null,
   "metadata": {},
   "outputs": [],
   "source": []
  }
 ],
 "metadata": {
  "kernelspec": {
   "display_name": "Python 3",
   "language": "python",
   "name": "python3"
  },
  "language_info": {
   "codemirror_mode": {
    "name": "ipython",
    "version": 3
   },
   "file_extension": ".py",
   "mimetype": "text/x-python",
   "name": "python",
   "nbconvert_exporter": "python",
   "pygments_lexer": "ipython3",
   "version": "3.7.4"
  }
 },
 "nbformat": 4,
 "nbformat_minor": 2
}

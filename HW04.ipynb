{
 "cells": [
  {
   "cell_type": "markdown",
   "metadata": {},
   "source": [
    "# Homework 4\n",
    "\n",
    "## Task\n",
    "\n",
    "The prefix spectrum of a weighted string is the collection of all its prefix weights.\n",
    "\n",
    "**Given:** A list L of n (n ≤ 100) positive real numbers.\n",
    "\n",
    "**Return:** A protein string of length n − 1 whose prefix spectrum is equal to L (if multiple solutions exist, you may output any one of them). Consult the monoisotopic mass table.\n",
    "\n",
    "http://rosalind.info/problems/spec/"
   ]
  },
  {
   "cell_type": "markdown",
   "metadata": {},
   "source": [
    "## Sample dataset"
   ]
  },
  {
   "cell_type": "code",
   "execution_count": 42,
   "metadata": {},
   "outputs": [],
   "source": [
    "L = [3524.8542, 3710.9335, 3841.974, 3970.0326, 4057.0646]"
   ]
  },
  {
   "cell_type": "markdown",
   "metadata": {},
   "source": [
    "I created a mass dictionary:"
   ]
  },
  {
   "cell_type": "code",
   "execution_count": 43,
   "metadata": {},
   "outputs": [],
   "source": [
    "monoisotopic_mass_table = {'A':71.03711, 'C':103.00919, 'D':115.02694, 'E':129.04259, \n",
    "                           'F':147.06841, 'G':57.02146, 'H':137.05891, 'I':113.08406, \n",
    "                           'K':128.09496, 'L':113.08406, 'M':131.04049, 'N':114.04293, \n",
    "                           'P':97.05276, 'Q':128.05858, 'R':156.10111, 'S':87.03203, \n",
    "                           'T':101.04768, 'V':99.06841, 'W':186.07931, 'Y':163.06333}"
   ]
  },
  {
   "cell_type": "markdown",
   "metadata": {},
   "source": [
    "I want to round the values in the dictionary in the first step:"
   ]
  },
  {
   "cell_type": "code",
   "execution_count": 44,
   "metadata": {},
   "outputs": [
    {
     "name": "stdout",
     "output_type": "stream",
     "text": [
      "{'A': 71.0371, 'C': 103.0092, 'D': 115.0269, 'E': 129.0426, 'F': 147.0684, 'G': 57.0215, 'H': 137.0589, 'I': 113.0841, 'K': 128.095, 'L': 113.0841, 'M': 131.0405, 'N': 114.0429, 'P': 97.0528, 'Q': 128.0586, 'R': 156.1011, 'S': 87.032, 'T': 101.0477, 'V': 99.0684, 'W': 186.0793, 'Y': 163.0633}\n"
     ]
    }
   ],
   "source": [
    "for key, value in monoisotopic_mass_table.items():\n",
    "    monoisotopic_mass_table[key] = round(value, 4)\n",
    "\n",
    "print(monoisotopic_mass_table)"
   ]
  },
  {
   "cell_type": "code",
   "execution_count": 45,
   "metadata": {},
   "outputs": [
    {
     "name": "stdout",
     "output_type": "stream",
     "text": [
      "WMQS\n"
     ]
    }
   ],
   "source": [
    "masses_list = []\n",
    "\n",
    "for i in range(len(L) - 1):\n",
    "    mass = (L[i + 1] - L[i])\n",
    "    \n",
    "    [masses_list.append(key) for key, value in monoisotopic_mass_table.items() if round(value, 4) == round(mass, 4)]\n",
    "    \n",
    "protein_string = ''.join(masses_list)\n",
    "    \n",
    "print(protein_string)"
   ]
  }
 ],
 "metadata": {
  "kernelspec": {
   "display_name": "Python 3",
   "language": "python",
   "name": "python3"
  },
  "language_info": {
   "codemirror_mode": {
    "name": "ipython",
    "version": 3
   },
   "file_extension": ".py",
   "mimetype": "text/x-python",
   "name": "python",
   "nbconvert_exporter": "python",
   "pygments_lexer": "ipython3",
   "version": "3.7.4"
  }
 },
 "nbformat": 4,
 "nbformat_minor": 2
}
